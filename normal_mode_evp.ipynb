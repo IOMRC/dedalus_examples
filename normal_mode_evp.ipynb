{
 "cells": [
  {
   "cell_type": "markdown",
   "metadata": {},
   "source": [
    "# Solve the normal mode eigenvalue problem that arises in GFD problems\n",
    "\n",
    "$$\n",
    "\\frac{d^2 \\phi}{dz^2} + \\frac{N^2}{c^2}\\phi = 0\n",
    "$$\n",
    "\n",
    "Use the `waves_on_a_string.py` example as a starting point..."
   ]
  },
  {
   "cell_type": "code",
   "execution_count": 1,
   "metadata": {
    "collapsed": true
   },
   "outputs": [],
   "source": [
    "import dedalus.public as de\n",
    "import numpy as np\n",
    "import matplotlib.pyplot as plt\n",
    "import logging\n",
    "import time\n",
    "logger = logging.getLogger(__name__)\n",
    "\n"
   ]
  },
  {
   "cell_type": "code",
   "execution_count": 10,
   "metadata": {},
   "outputs": [],
   "source": [
    "%matplotlib inline"
   ]
  },
  {
   "cell_type": "code",
   "execution_count": 230,
   "metadata": {},
   "outputs": [
    {
     "data": {
      "text/plain": [
       "array([ -3.99984940e+02,  -3.99864477e+02,  -3.99623623e+02,\n",
       "        -3.99262522e+02,  -3.98781394e+02,  -3.98180527e+02,\n",
       "        -3.97460284e+02,  -3.96621097e+02,  -3.95663474e+02,\n",
       "        -3.94587990e+02,  -3.93395294e+02,  -3.92086104e+02,\n",
       "        -3.90661208e+02,  -3.89121465e+02,  -3.87467802e+02,\n",
       "        -3.85701216e+02,  -3.83822770e+02,  -3.81833597e+02,\n",
       "        -3.79734893e+02,  -3.77527924e+02,  -3.75214019e+02,\n",
       "        -3.72794571e+02,  -3.70271039e+02,  -3.67644941e+02,\n",
       "        -3.64917861e+02,  -3.62091440e+02,  -3.59167381e+02,\n",
       "        -3.56147446e+02,  -3.53033453e+02,  -3.49827279e+02,\n",
       "        -3.46530854e+02,  -3.43146165e+02,  -3.39675250e+02,\n",
       "        -3.36120200e+02,  -3.32483156e+02,  -3.28766309e+02,\n",
       "        -3.24971898e+02,  -3.21102208e+02,  -3.17159571e+02,\n",
       "        -3.13146362e+02,  -3.09064998e+02,  -3.04917937e+02,\n",
       "        -3.00707677e+02,  -2.96436754e+02,  -2.92107742e+02,\n",
       "        -2.87723248e+02,  -2.83285912e+02,  -2.78798408e+02,\n",
       "        -2.74263439e+02,  -2.69683736e+02,  -2.65062058e+02,\n",
       "        -2.60401190e+02,  -2.55703938e+02,  -2.50973132e+02,\n",
       "        -2.46211622e+02,  -2.41422275e+02,  -2.36607978e+02,\n",
       "        -2.31771629e+02,  -2.26916142e+02,  -2.22044441e+02,\n",
       "        -2.17159462e+02,  -2.12264147e+02,  -2.07361445e+02,\n",
       "        -2.02454308e+02,  -1.97545692e+02,  -1.92638555e+02,\n",
       "        -1.87735853e+02,  -1.82840538e+02,  -1.77955559e+02,\n",
       "        -1.73083858e+02,  -1.68228371e+02,  -1.63392022e+02,\n",
       "        -1.58577725e+02,  -1.53788378e+02,  -1.49026868e+02,\n",
       "        -1.44296062e+02,  -1.39598810e+02,  -1.34937942e+02,\n",
       "        -1.30316264e+02,  -1.25736561e+02,  -1.21201592e+02,\n",
       "        -1.16714088e+02,  -1.12276752e+02,  -1.07892258e+02,\n",
       "        -1.03563246e+02,  -9.92923233e+01,  -9.50820635e+01,\n",
       "        -9.09350023e+01,  -8.68536378e+01,  -8.28404285e+01,\n",
       "        -7.88977917e+01,  -7.50281024e+01,  -7.12336914e+01,\n",
       "        -6.75168445e+01,  -6.38798004e+01,  -6.03247501e+01,\n",
       "        -5.68538349e+01,  -5.34691457e+01,  -5.01727211e+01,\n",
       "        -4.69665469e+01,  -4.38525543e+01,  -4.08326191e+01,\n",
       "        -3.79085603e+01,  -3.50821394e+01,  -3.23550589e+01,\n",
       "        -2.97289614e+01,  -2.72054288e+01,  -2.47859812e+01,\n",
       "        -2.24720759e+01,  -2.02651069e+01,  -1.81664034e+01,\n",
       "        -1.61772297e+01,  -1.42987839e+01,  -1.25321976e+01,\n",
       "        -1.08785349e+01,  -9.33879193e+00,  -7.91389612e+00,\n",
       "        -6.60470579e+00,  -5.41200956e+00,  -4.33652586e+00,\n",
       "        -3.37890251e+00,  -2.53971637e+00,  -1.81947291e+00,\n",
       "        -1.21860600e+00,  -7.37477563e-01,  -3.76377420e-01,\n",
       "        -1.35523082e-01,  -1.50596322e-02])"
      ]
     },
     "execution_count": 230,
     "metadata": {},
     "output_type": "execute_result"
    }
   ],
   "source": [
    "# Domain\n",
    "Nz = 128\n",
    "H = 400\n",
    "#N2 = 1e-4\n",
    "\n",
    "z_basis = de.Chebyshev('z', Nz, interval=(-H, 0))\n",
    "domain = de.Domain([z_basis], np.complex128)\n",
    "\n",
    "z = z_basis.grid()\n",
    "z"
   ]
  },
  {
   "cell_type": "code",
   "execution_count": 233,
   "metadata": {},
   "outputs": [
    {
     "data": {
      "text/plain": [
       "[<matplotlib.lines.Line2D at 0x7f76e62eb160>]"
      ]
     },
     "execution_count": 233,
     "metadata": {},
     "output_type": "execute_result"
    },
    {
     "data": {
      "image/png": "[encoded data removed]",
      "text/plain": [
       "<matplotlib.figure.Figure at 0x7f76e63ae198>"
      ]
     },
     "metadata": {},
     "output_type": "display_data"
    }
   ],
   "source": [
    "def sech(z):\n",
    "    return 1/np.cosh(z)\n",
    "\n",
    "def sech_N2(beta,z):\n",
    "    N1 = 9.81/1024*(beta[1]/beta[3])\n",
    "    cff = sech((z+beta[2])/beta[3]) #+ np.exp(z/beta[0])\n",
    "    return N1*cff*cff\n",
    "    \n",
    "beta = [2000,1.0,100,50]\n",
    "\n",
    "plt.figure()\n",
    "plt.plot(sech_N2(beta,z),z)"
   ]
  },
  {
   "cell_type": "code",
   "execution_count": 234,
   "metadata": {},
   "outputs": [
    {
     "name": "stdout",
     "output_type": "stream",
     "text": [
      "2020-01-16 13:40:12,971 problems 0/1 INFO :: Solving EVP with homogeneity tolerance of 1.000e-10\n"
     ]
    }
   ],
   "source": [
    "# Problem\n",
    "problem = de.EVP(domain, variables=['phi', 'phi_z'],eigenvalue='c')\n",
    "\n",
    "# Constant buoyancy frequency\n",
    "#problem.parameters['N2'] = N2\n",
    "\n",
    "# Add vertically varying N^2\n",
    "ncc = domain.new_field(name = 'N2')\n",
    "ncc['g'] = sech_N2(beta,z)\n",
    "problem.parameters['N2'] = ncc\n",
    "\n",
    "problem.add_equation(\"phi * N2 *c + dz(phi_z) = 0\")\n",
    "problem.add_equation(\"phi_z - dz(phi) = 0\")\n",
    "#problem.add_bc(\"left(phi) = 0\")\n",
    "problem.add_bc(\"right(phi) = 0\")\n",
    "problem.add_bc(\"left(phi) = 0\")\n"
   ]
  },
  {
   "cell_type": "code",
   "execution_count": 235,
   "metadata": {},
   "outputs": [
    {
     "name": "stdout",
     "output_type": "stream",
     "text": [
      "2020-01-16 13:40:15,199 __main__ 0/1 INFO :: Elapsed solve time: 1.364400\n"
     ]
    },
    {
     "name": "stderr",
     "output_type": "stream",
     "text": [
      "/home/dedalus/dedalus/lib/python3.5/site-packages/scipy/linalg/decomp.py:56: RuntimeWarning: divide by zero encountered in true_divide\n",
      "  w = alpha / beta\n",
      "/home/dedalus/dedalus/lib/python3.5/site-packages/scipy/linalg/decomp.py:56: RuntimeWarning: invalid value encountered in true_divide\n",
      "  w = alpha / beta\n"
     ]
    }
   ],
   "source": [
    "# Solver\n",
    "t1 = time.time()\n",
    "\n",
    "solver = problem.build_solver()\n",
    "solver.solve(solver.pencils[0])\n",
    "t2 = time.time()\n",
    "logger.info('Elapsed solve time: %f' %(t2-t1))"
   ]
  },
  {
   "cell_type": "code",
   "execution_count": 236,
   "metadata": {},
   "outputs": [],
   "source": [
    "# Filter infinite/nan eigenmodes\n",
    "finite = np.isfinite(solver.eigenvalues)\n",
    "solver.eigenvalues = solver.eigenvalues[finite]\n",
    "solver.eigenvectors = solver.eigenvectors[:, finite]\n",
    "\n",
    "# Sort eigenmodes by eigenvalue\n",
    "order = np.argsort(solver.eigenvalues)\n",
    "solver.eigenvalues = solver.eigenvalues[order]\n",
    "solver.eigenvectors = solver.eigenvectors[:, order]\n",
    "\n",
    "# Plot error vs exact eigenvalues\n",
    "mode_number = 1 + np.arange(len(solver.eigenvalues))\n"
   ]
  },
  {
   "cell_type": "code",
   "execution_count": 237,
   "metadata": {},
   "outputs": [
    {
     "data": {
      "text/plain": [
       "array([  1.02304758e+00,   3.62236721e-01,   2.26857209e-01,\n",
       "         1.65917942e-01,   1.30989198e-01,   1.08283512e-01,\n",
       "         9.23195049e-02,   8.04744774e-02,   7.13326223e-02,\n",
       "         6.40614210e-02,   5.81389284e-02,   5.32211286e-02,\n",
       "         4.90719829e-02,   4.55241037e-02,   4.24554644e-02,\n",
       "         3.97749966e-02,   3.74133508e-02,   3.53167824e-02,\n",
       "         3.34429931e-02,   3.17582362e-02,   3.02352585e-02,\n",
       "         2.88518103e-02,   2.75895404e-02,   2.64331742e-02,\n",
       "         2.53699282e-02,   2.43889592e-02,   2.34808409e-02,\n",
       "         2.26368992e-02,   2.18500511e-02,   2.11095392e-02,\n",
       "         2.04080712e-02,   1.97251671e-02,   1.90686397e-02,\n",
       "         1.84044260e-02,   1.77618801e-02,   1.70966980e-02,\n",
       "         1.64701658e-02,   1.58193994e-02,   1.52084063e-02,\n",
       "         1.45740371e-02,   1.39938562e-02,   1.33934266e-02,\n",
       "         1.28376273e-02,   1.22649273e-02,   1.17481491e-02,\n",
       "         1.12157846e-02,   1.07266754e-02,   1.02227440e-02,\n",
       "         9.77632120e-03,   9.31100513e-03,   8.89390229e-03,\n",
       "         8.45156287e-03,   8.07901380e-03,   7.66965599e-03,\n",
       "         7.32808462e-03,   6.93340336e-03,   6.63638989e-03,\n",
       "         6.26889200e-03,   6.00333854e-03,   5.64486812e-03,\n",
       "         5.41656706e-03,   5.08709764e-03,   4.88217438e-03,\n",
       "         4.57138846e-03,   4.37443495e-03,   4.11457273e-03,\n",
       "         3.91536735e-03,   3.69974809e-03,   3.47186618e-03,\n",
       "         3.32146119e-03,   3.09286332e-03,   2.96642964e-03,\n",
       "         2.75970577e-03,   2.60312454e-03,   2.47318772e-03,\n",
       "         2.29096529e-03,   2.19703967e-03,   2.03967082e-03,\n",
       "         1.89024064e-03,   1.81365706e-03,   1.67503918e-03,\n",
       "         1.55980915e-03,   1.49242123e-03,   1.37053136e-03,\n",
       "         1.25498707e-03,   1.19441780e-03,   1.11869993e-03,\n",
       "         1.02151955e-03,   9.43785537e-04,   9.04418907e-04,\n",
       "         8.33418333e-04,   7.58099345e-04,   6.89144659e-04,\n",
       "         6.30295765e-04,   5.98947770e-04,   5.60310128e-04,\n",
       "         5.10063180e-04,   4.63209183e-04,   4.20683541e-04,\n",
       "         3.83510703e-04,   3.63009483e-04,   3.41080695e-04,\n",
       "         3.10482785e-04,   2.81178332e-04,   2.54363254e-04,\n",
       "         2.29784702e-04,   2.07422293e-04,   1.87001949e-04,\n",
       "         1.68377023e-04,   1.51331397e-04,   1.35734625e-04,\n",
       "         1.21481074e-04,   1.08449968e-04,   9.65213737e-05,\n",
       "         8.55032052e-05,   7.53264541e-05,   6.59073908e-05,\n",
       "         5.72839362e-05,   4.92837164e-05,   4.18221950e-05,\n",
       "         3.47244250e-05,   2.81440729e-05,   2.19261310e-05,\n",
       "         1.61164935e-05,   1.03196299e-05,   5.25374307e-06])"
      ]
     },
     "execution_count": 237,
     "metadata": {},
     "output_type": "execute_result"
    }
   ],
   "source": [
    "1/np.sqrt(np.abs(solver.eigenvalues))"
   ]
  },
  {
   "cell_type": "code",
   "execution_count": 239,
   "metadata": {},
   "outputs": [
    {
     "data": {
      "text/plain": [
       "[<matplotlib.lines.Line2D at 0x7f76e61ccc18>]"
      ]
     },
     "execution_count": 239,
     "metadata": {},
     "output_type": "execute_result"
    },
    {
     "data": {
      "image/png": "[encoded data removed]",
      "text/plain": [
       "<matplotlib.figure.Figure at 0x7f76e6281710>"
      ]
     },
     "metadata": {},
     "output_type": "display_data"
    }
   ],
   "source": [
    "def norm(V):\n",
    "    if np.max(V)>np.abs(np.min(phi)):\n",
    "        return V/np.max(V)\n",
    "    else:\n",
    "        return V/np.min(V)\n",
    "\n",
    "# This is the method for extracting the eigenvalue in physical space    \n",
    "mode=0\n",
    "solver.set_state(mode)\n",
    "phi = solver.state['phi']['g'].real\n",
    "\n",
    "plt.figure()\n",
    "\n",
    "plt.plot(norm(phi),z,'.')\n"
   ]
  },
  {
   "cell_type": "code",
   "execution_count": null,
   "metadata": {
    "collapsed": true
   },
   "outputs": [],
   "source": []
  }
 ],
 "metadata": {
  "kernelspec": {
   "display_name": "Python 3",
   "language": "python",
   "name": "python3"
  },
  "language_info": {
   "codemirror_mode": {
    "name": "ipython",
    "version": 3
   },
   "file_extension": ".py",
   "mimetype": "text/x-python",
   "name": "python",
   "nbconvert_exporter": "python",
   "pygments_lexer": "ipython3",
   "version": "3.5.1"
  }
 },
 "nbformat": 4,
 "nbformat_minor": 2
}
